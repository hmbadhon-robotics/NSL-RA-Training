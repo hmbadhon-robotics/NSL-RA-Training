{
 "cells": [
  {
   "cell_type": "markdown",
   "metadata": {},
   "source": [
    "# Setup"
   ]
  },
  {
   "cell_type": "code",
   "execution_count": 1,
   "metadata": {},
   "outputs": [],
   "source": [
    "import tensorflow as tf\n",
    "import numpy as np"
   ]
  },
  {
   "cell_type": "markdown",
   "metadata": {},
   "source": [
    "# Dataset Download"
   ]
  },
  {
   "cell_type": "code",
   "execution_count": 2,
   "metadata": {},
   "outputs": [],
   "source": [
    "# !curl -O https://ai.stanford.edu/~amaas/data/sentiment/aclImdb_v1.tar.gz\n",
    "# !tar -xf aclImdb_v1.tar.gz"
   ]
  },
  {
   "cell_type": "code",
   "execution_count": 3,
   "metadata": {},
   "outputs": [],
   "source": [
    "# !ls aclImdb"
   ]
  },
  {
   "cell_type": "code",
   "execution_count": 4,
   "metadata": {},
   "outputs": [],
   "source": [
    "# !ls aclImdb/test"
   ]
  },
  {
   "cell_type": "code",
   "execution_count": 5,
   "metadata": {},
   "outputs": [],
   "source": [
    "# !ls aclImdb/train"
   ]
  },
  {
   "cell_type": "code",
   "execution_count": 6,
   "metadata": {},
   "outputs": [],
   "source": [
    "#!cat aclImdb/train/pos/6248_7.txt"
   ]
  },
  {
   "cell_type": "markdown",
   "metadata": {},
   "source": [
    "# Dataset Splitting for Train/Validation/Test"
   ]
  },
  {
   "cell_type": "code",
   "execution_count": 7,
   "metadata": {},
   "outputs": [
    {
     "name": "stdout",
     "output_type": "stream",
     "text": [
      "Found 75000 files belonging to 3 classes.\n",
      "Using 60000 files for training.\n",
      "Found 75000 files belonging to 3 classes.\n",
      "Using 15000 files for validation.\n",
      "Found 25000 files belonging to 2 classes.\n",
      "Number of batches in raw_train_ds: 1875\n",
      "Number of batches in raw_val_ds: 469\n",
      "Number of batches in raw_test_ds: 782\n"
     ]
    }
   ],
   "source": [
    "batch_size = 32\n",
    "raw_train_ds = tf.keras.preprocessing.text_dataset_from_directory(\n",
    "    \"aclImdb/train\",\n",
    "    batch_size=batch_size,\n",
    "    validation_split=0.2,\n",
    "    subset=\"training\",\n",
    "    seed=1337,\n",
    ")\n",
    "raw_val_ds = tf.keras.preprocessing.text_dataset_from_directory(\n",
    "    \"aclImdb/train\",\n",
    "    batch_size=batch_size,\n",
    "    validation_split=0.2,\n",
    "    subset=\"validation\",\n",
    "    seed=1337,\n",
    ")\n",
    "raw_test_ds = tf.keras.preprocessing.text_dataset_from_directory(\n",
    "    \"aclImdb/test\", batch_size=batch_size\n",
    ")\n",
    "\n",
    "print(f\"Number of batches in raw_train_ds: {raw_train_ds.cardinality()}\")\n",
    "print(f\"Number of batches in raw_val_ds: {raw_val_ds.cardinality()}\")\n",
    "print(f\"Number of batches in raw_test_ds: {raw_test_ds.cardinality()}\")"
   ]
  },
  {
   "cell_type": "code",
   "execution_count": 8,
   "metadata": {},
   "outputs": [
    {
     "name": "stdout",
     "output_type": "stream",
     "text": [
      "(<tf.Tensor: shape=(32,), dtype=string, numpy=\n",
      "array([b'SPOILERS: We sit through ten minutes of AWFUL clich\\xc3\\xa9d dialog at the beginning from two completely unoriginal characters with bad twangs (ripped off from Kalifornia and Natural Born Killers - there isn\\'t an original thing about these two) and you\\'re going \"either they\\'re about to kill everyone in the diner or already have\" and lo and behold guess what happens.<br /><br />I can\\'t stand all the Tarantino wannabes out there and this guy is one of the worst. I got maybe 25-30 minutes into the thing when I just couldn\\'t take it and stopped watching. Miner\\'s really bad acting was unbearable - I couldn\\'t take it. That, and the terrible script. After reading some of these comments I see there was a big twist - well guess what? No one cares. When you create completely uninteresting, unoriginal and unlikeable character like these two clich\\xc3\\xa9s, no one cares what big \"twist\" may have happened. I hope this is the end of these types of movies.',\n",
      "       b'This movie is horrible- in a \\'so bad it\\'s good\\' kind of way.<br /><br />The storyline is rehashed from so many other films of this kind, that I\\'m not going to even bother describing it. It\\'s a sword/sorcery picture, has a kid hoping to realize how important he is in this world, has a \"nomadic\" adventurer, an evil aide/sorcerer, a princess, a hairy creature....you get the point.<br /><br />The first time I caught this movie was during a very harsh winter. I don\\'t know why I decided to continue watching it for an extra five minutes before turning the channel, but when I caught site of Gulfax, I decided to stay and watch it until the end.<br /><br />Gulfax is a white, furry creature akin to Chewbacca, but not nearly as useful or entertaining to watch. He looks like someone glued a bunch of white shag carpeting together and forced the actor to wear it. There are scenes where it looks like the actor cannot move within, or that he\\'s almost falling over. Although he isn\\'t in the movie that much, the few scenes are worth it! Watch as he attempts to talk smack to Bo Svenson, taking the Solo-Chewbacca comparison\\'s to an even higher level! <br /><br />I actually bought this movie just because of that character, and still have it somewhere! <br /><br />Gulfax may look like sh!t, but he made this movie!!! The only reason I\\'ve never seen the sequel, or even sought it out, was because of his absence! Perhaps should there be a final film, completing the trilogy, Gulfax will make a much-anticipated return!',\n",
      "       b\"Pierce Brosnan has sipped his last Martini and returns, in an outrageous self-parody, as the aging foul-mouthed boozy assassin Julian Noble, who has a particular fondness for teenage girls, bullfights and tacky clothes. During a job in Mexico City he meets Danny (Greg Kinnear), a straight-faced Denver suburban business-man, who's in town to make his deal of-a-life-time, in a hotel bar. Despite their completely different personalities and Julian's crude and insensible remarks, they become friends. <br /><br />Largely carried by the performances of Pierce Brosnan and Greg Kinnear, director Richard Shepard revealed that he didn't write the film with Pierce Brosnan in mind , but I can hardly imagine this without him. He proves to have a real talent for comedy and can be more than just James Bond or cold-war spies. The scene in which the two meet at a glossy hotel bar (stunning sets and beautifully photographed) really is a bravura piece of acting skills. The scene lasts almost fifteen minutes, and although it was probably carefully scripted, the two actors are largely improvising, but they succeed wonderfully! It almost feels like a new standard in screen acting. Think of Robert De Niro and Harvey Keitel in MEAN STEETS improvising and add one of the most subtle underpinnings of many genre clich\\xc3\\xa9s and the actors' own typecasting (Brosnan's James Bond in particular), and you got one of the most delightful pairings in recent Hollywood. <br /><br />Sadly, the story wears thin after a while. After an hour, the film just runs out of steam. Nevertheless, and I can't put my finger on it exactly, I did enjoy this very much. It just feels very fresh and original, with some imaginative use of sets and lighting, and some hints to Seijun Suzuki and Jean-Pierre Melville. The other characters aren't given much to do, but this film does offer something new, in that respect it almost effortlessly succeeds in blending all conventional genres into quite an entertaining spoof. Very amusing.<br /><br />Camera Obscura --- 7/10\",\n",
      "       b\"I hadn't seen this show until it was repeated on Dave. I became aware of it after seeing The Comedy Store Players, a group of comedians which includes Josie Lawrence.<br /><br />I enjoy the unpredictability of Whose Line is it Anyway and the diversity of the performers. The fact that the show had both English and American comedians made it better.<br /><br />The best performance ever had to be when Josie Lawrence and Caroline Quentin sung a duet about a beached whale. Admitedly that description may not sound funny, but if you've seen it you'll know how good it was.<br /><br />Colin Mochrie and Ryan Stiles were a great double act. They were particularly good at the round where they were given two completely random lines to incorporate into a sketch.<br /><br />Other improv shows such as Mock The Week are good, but Whose Line is it Anyway will always be the king of Improvised Comedy shows\",\n",
      "       b'This film, directed by New World Pictures alumnus Jonathan Kaplan and starring cult favorite Aimee Graham, is part of the \"Rebel Highway\" series of remakes of 1950s juvenile-delinquent films.<br /><br />For what was basically a chance for the filmmakers to have fun, _Reform School Girl_ is quite watchable. There are the allusions to McCarthyism characteristic of the \"Rebel Highway\" series (and a well-done general 50s ambiance), and the usual array of interesting types we meet in women-in-prison films. This one is nowhere near as graphic as a typical entry in that genre, but there is one lesbian love scene that is strikingly filmed and acted, suprisingly graphic for such young-looking actresses, and really kind of a tonal shift from the rest of the film. Unfortunately, the film never really resolves the lesbian relationship.<br /><br />The only time I really cringed was the scene where Donna (Aimee Graham) started dancing and singing with the mop, and the camera began moving around and getting in the faces of the onlookers. This was a totally ridiculous scene (but I guess it\\'s hard to pad these things out to 80 minutes).<br /><br />Graham is stellar in the title role, a girl who has had to deal with abuse and, while in reform school, awakens to more positive sexual experiences. I really wish Hollywood would take more notice of her.',\n",
      "       b\"This movie was embarrassing to watch. The thing that annoyed me the most was the fantastic time machine. Right, a video in HD-quality with sound that can be fixed in every possible angle and even zoom in so you can watch the digits on a phone display. Inside a house! And if you put something that stupid in a movie; don't try to explain it using real physics. It just makes matters worse; especially if you know physics. And this video system from the past was something a couple of guys had put together in a couple of days. Not to mention that these guys were the typical ubersmart morons you see in every sci-fi B-movie.<br /><br />I tried to look beyond that and enjoy the movie, but it was hard. Denzel and Val Kilmer's performances are OK, but the rest of the actors are somewhere between bad and horrible. The story has so many glitches you lose count. But toward the end the moral seems to be that no matter what you do to change the past, the final outcome is the same; actually a clever idea (although not an original one). But then he sends himself back in time (yeah, likely) and saves the day and the girl (not to mention himself). Seriously; the ending was a complete disaster. In the end nothing makes sense at all.<br /><br />Finally; who the heck was the bomber anyway, and what were his motives? I gave this movie 3/10 because it was partially entertaining. But it was mostly annoying. Do not see this movie unless you have a 13 hour flight and nothing else to watch. Or you can have a competition and see who finds most glitches in the story.\",\n",
      "       b'Having read much of the criticism and praise of others commenting on \"Get Real\", there really isn\\'t much that I can say that hasn\\'t been said elsewhere.<br /><br />I would like to comment on the criticism that the dialogue was poor. Teens never talk in most films like they do amongst one another. Here, to a good degree, they do. The actors weave brilliantly between the awkward clumsiness and bold cockiness that most teens display. It isn\\'t tiresome at all, it\\'s refreshing and interesting. There is also a great amount of communication that isn\\'t purely driven by dialogue and it\\'s exceptional between the two main players. <br /><br />If you\\'d like to see a super film, with flawless acting all around, this is a delightful portrayal of two boys at very different places where self-acceptance is concerned. It certainly raises the bar on gay genre films to something that should be enjoyable to the general public.<br /><br />My only criticism is that the music is rather standard fare.',\n",
      "       b'What happens when the average joe finds out he has supernatural powers? The premise may sound familiar. The Watchmen? Unbreakable? However, the Russian sci-fi action flick, The Sword Bearer, is far from the standard stock.<br /><br />The story revolves around a man named Sasha who as a boy was shunned from society, his peers and family due to a supernatural power that he possess. When he wishes or his anger allows, a sword extends from his arm piercing his own skin. Very wolverinish? Maybe... but that\\'s not the interesting part of this film. Shunned all his life and driven by anger (and a temper he does have) our \"hero\" returns to his home town to turn his life around or find a reason to. The only thing he encounters here is trouble when an encounter with an old flame\\'s new boyfriend leaves him bloodied on the ground. This is where the vengeance and anger comes into play. This is a man you do not want to cross and from this point the mafia and the police are on his tail. He meets a girl and falls in love instantly as does she and this is really what the movie is about.<br /><br />The film is highly impressionistic with bold colors and noir overtones spliced with short yet extreme action sequences. This is art house at it\\'s core, beautifully filmed with such attention to details in every scene over gruesome sci-fi action. It\\'s this odd mash that interests me so much in this film. The directors approach for this genre is refreshing focusing on the emotional journey of Sasha and not a straight action film. Don\\'t worry though, the action is there and plenty of it. However, much of these sequences show only implied violence with pictures of the horrific aftermath. This is not to say that action is not shown. These scenes are here and are fantastic (especially the ending where we see Sasha\\'s full powers unleashed in desperation). The director chooses to imply the violence of many scenes to keep the focus on the character\\'s emotional struggle at hand. This is a tragic love story and a refreshing entry into the genre.',\n",
      "       b\"I went to see this without any prior knowledge. I tend to like big-budgeted fantasy movies, but couldn't quite get into this one. If your a fan of the book and liked the movie, that's great. But the critics have this one right - it's just not enjoyable by the casual moviegoer. The acting, dialog and general believability of the film are not up to par.<br /><br />The 'idea' is kind of cool: A man discovers that when he reads text in books, the things he reads about become reality. Years later, he is captured by a book villain that he accidentally brought to life years ago ... and the story progresses from there.<br /><br />A lot of this movie was awkward; in the beginning I was surprised to hear the daughter speaking with an English accent, unlike her parents ... guess they lived in the UK (don't know). Her unkempt eyebrows were also a bit awkward to look at (hey, my friend noticed this too).<br /><br />The acting was pretty rough - but I don't blame the actors. The material they were given was clearly ludicrous. It's hilarious how the father tells everyone of his special ability and everyone just believes this amazing claim ... add to that the further wild story he gives about what happened to his wife... and no one questions that. How do you act with that kind of a script? Did they even read the script before accepting this acting gig? <br /><br />I went to see this movie on a Saturday night - the lines at the theater were immense and other movies were sold out. Yet, this movie was barely filled - take that as a clue. It's not worth you or your kid's time.\",\n",
      "       b'(potential spoilers)<br /><br />The theater was filled with people expecting what this picture could have potentially been if given more time to develop the story. Instead the audience got another story filled with quick cutaways and bass designed to give you a scare in that moment, but after leaving you with an emptiness where the story should have filled.<br /><br />I will say this though, this movie didn\\'t suck because of Adrien Brody. He was fun to watch and his subtleties didn\\'t go unnoticed. A part that comes to mind is when he asks Kiera Knightly what year it is, she says 2007 and he gives his unbelieving, \"wha.\" Unfortunately the rest of the scene took place in bizarre 2007. What attractive 20 something female is going to bring to her apartment (where she lives alone) a mysterious Adrien Brody standing outside freezing. Her reason for letting him stay is that she called all the homeless shelters and none are open, so she\\'d feel guilty if she sent this guy she met 1 min ago away. \"You can sleep on my couch.\" Trusting aren\\'t we. I didn\\'t buy it. Also watching her vast array of facial expressions in this scene also brought a tear to my eye... from laughter. <br /><br />I don\\'t know about you but I\\'m so sick of films that use static and weird sound effects with shooting images to get the audience on edge. Ever since the Ring I haven\\'t been able to appreciate them anymore and it looks more and more like a cheap thrill device. I was sitting in the theater waiting for those parts to be over. <br /><br />All in all, the Jacket was a decent, unfinished story that had so much more potential. If it wasn\\'t for Brody and a character named Mckenzie, this film would be a lot harder to watch. They tried to do something different, but didn\\'t follow up. <br /><br />4 (for effort) out of 10.',\n",
      "       b'Sandra Dee, out of all people, portrays the endangered protagonist, a college student seduced by the hypnotic(..key word)charms of warlock Dean Stockwell who wishes to to open the gateway for unleashing \"the old ones\" from another dimension and needs the Necronomicon, in possession of Professor Ed Begley who tours campuses lecturing on the book\\'s content and origins. He wishes to use Dee as a sacrifice to the demon gods on the cliff-side ruins of an ancient alter. Sam Jaffe hams it up as the loony grandfather of Stockwell and Lloyd Bochner is the village doctor Begley confides in to stop Stockwell from what he plans to do regarding the gods which await re-entry into our world and to Dee, sexually! I found the film, at times quite atmospheric and moody(..mainly the first 45 minutes), but the ending is sh!T. Loved the score by Les Baxter, although it seems, at times, to resemble the background music of a Scooby Doo episode. My favorite shot has a camera looking out from a burial plot after the death of a specific character as Stockwell attempts to perform a ritualistic ceremony. The film\\'s night sequences at the end as a band of angry villagers, following behind Begley and Bochner, are attacked by a creature( that looses itself from a locked room in Jaffe and Stockwell\\'s home), within the woods drove me nuts..you can\\'t see a damn thing unless the director lets loose those color schemes which operate loudly as the monster\\'s \"sight\" when it confronts possible victims. And, the face off between Begley and Stockwell as Gidget lays on the sacrificial alter in orgiastic(..under an induced hypnotic state, although one might use that as a description of Dee\\'s performance)bliss is laughable. I loved the opening animated credits sequence. Considering this is an AIP production, I was disappointed. At times moody and interesting, other times painstakingly dull.',\n",
      "       b'Jesus Christ, I can\\'t believe I\\'ve wasted my time watching this movie. I only watched because I have such a crush on Jordan Ladd. But watching this film almost put me off her. This is absolutely awful! I could have been watching Survivor Series 93 over this.<br /><br />The lead guy in this was so bland and generic. I would love it if the great Mistuharu Misawa Tiger Drove \\'91\\'d his ass through a glass window. I was enraging every time he was saying \"lake\" and \"cabin\". I\\'d kick his ass.<br /><br />Jordan Ladd, on the other hand, was absolutely wonderful. A true angel. But she couldn\\'t even save this utter joke of a film. Sadly, she couldn\\'t even act like she was off her nut when she took that truth drug. It looked hilarious.<br /><br />I also loved the bit where Jordan accidentally spilled yogurt on her. It reminded me of a time where...nevermind.<br /><br />Anayways, do watch this film because of it\\'s awfulness.',\n",
      "       b\"I'm not a science fiction fan, but I like this movie. I may be biased as a Hulk Hogan fan, but this is my favorite of his films. A lot of it is pretty dumb and borders on the absurd, but the best and funniest scenes are his trying to fit in on Earth, and the odd partnership between him and straight-laced Christopher Lloyd. Accepting Hogan too quickly as the space hero he is, Lloyd gets to play one harried husband with a spaced out wife played by Shelley Duvall. Larry Miller, funny as he is, is annoying as the boss, but Jack Elam is wasted as a shell-shocked neighbor in a neighborhood of wierdos. Roy Dotrice has an unexpected cameo, but the worst part of the movie is the unconvincing villain who comes across as a kiddie show bad guy. Two of Hogan's wrestling cronies play bounty hunters who take part in a cartoonish John-and-Larry fight scene. Altogether, the movie has a lot of faults, but few really good scenes.\",\n",
      "       b'Phantom Raiders portrays a crime that is all to possible today, blowing up ships set off by electrical devices. However this was 1940, the era of the wisecracking detective and his sidekick neatly wrapping up the mystery in a little over an hour. What sets this film apart from other movies of the same type is its crackling good dialog, an insidious villain,(Joseph Shildkraut),the suave Nick Carter,(a clean shaven Walter Pigeon), his assistant, Mr Bartholomew (beautifully played by Donald Meek), the innocent ing\\xc3\\xa9nue(the captivating Florence Rice). Speaking of Florence Rice, she literally lights up the screen when she is on. At the same time vulnerable, adoring. Listen to the way she says \"I love him\", talking about her boyfriend, it will melt your heart. Highly recommend!',\n",
      "       b'It was hard to imagine when I first watched this just how devastating the hysteria over Satanic Ritual Abuse was to families and communities during the 1990s. Having since looked into it, the episode becomes a lot more powerful, and a lot more interesting. The reactions make a lot more sense, and the characters seem less like obsessive lunatics and more like genuinely frightened people.<br /><br />\"Die Hand Die Verletzt\" starts out so quirky, with the rain of frogs and the teens out to try and \"get some\". Or maybe it\\'s the welter of teenage horror since then that makes these things seems light. Either way, even for The X-Files, this one gets dark fast, and the moral ambiguity present is wonderful as the cultists\\' lies turn out to be rather more well- intentioned than the comparatively friendly words of the demonic substitute teacher. Ms. Paddock is remarkable in her power to dominate the episode, even when not on screen, and it\\'s great to see the agents (to quote a later episode with similar themes) not knowing which side they\\'re on.<br /><br />In a way, the story tries to do a little too much in too little time, but does at least show the right things. We don\\'t need to see the rituals, the sacrifices or whatever; they\\'re far more interesting for being a mystery to us. Through skillful editing, we as the audience are kept only slightly less in the dark than the agents, enough to trick us into thinking we know what\\'s going on and which side we\\'re on, but at the end, we\\'re left with a bittersweet little epilogue that serves best to show us how foolish we were for thinking we understood what was going on. It encapsulates everything the preceding hour was about, and if that means we don\\'t get all the answers we want, it\\'s much better for it.',\n",
      "       b\"The movie in itself has a solid story. Andy Garcia is Michael Hunter a psychiatrist who loses his son by suicide. That leaves him devastated for three years, divorcing his wife and giving not the proper attention to his daughter. (We're all human, right?) By incident he gets a patient that reminds him of his son. This kid seems to be OK, but he has a troubled past. He will be released in a few weeks and Hunter must find out if that is correct. We as viewers no pretty soon, that it is not and hope that Hunter finds out before the deadline as well...<br /><br />It may not seem as original and maybe it isn't, but I am still thinking about it, 12 hours after I saw it and personally I think that is great in this era of popcorn films...<br /><br />Other aspects that are part of a movie, like lightning and acting are really great!! Vincent Kartheiser was probably cast because of this eyes, but he really gives a chilling performance.\",\n",
      "       b'Larry Fessenden\\'s \"The Last Winter\" is a ambitious and smartly made film. It\\'s photographed beautifully and (by and large) acted with conviction and sensitivity. Though the central conceit about nature \"taking revenge\" is pretty corny, the atmosphere is also pretty compellingly bleak, and the tension mounts pretty effectively as things go from bad to worse. Sadly, as many other reviewers note, the ending throws it all away in a fit of awful CG monsters.<br /><br />However, try turning it off right at one hour 27 minutes and 30 seconds. This would have been a solid albeit ambiguous ending; if you must watch further do it on a second viewing and consider it a deleted ending. It\\'s just goofy and pointless, and the final \"twist\" at the end is telegraphed almost from the very beginning (in fact, one character early on describes aloud exactly what the twist will end up being).<br /><br />Even without the ending, the script has problems with its petty black-and-white portrayal of heroic environmentalist and selfish oil guy. An ensemble atmosphere pic like this lives and dies on the believability of its characters; Perlman\\'s Ed Pollock is simply too villainous to really be convincing, despite a few nice touches of humanity which Perlman brings to him. Le Gros\\' Hoffman is also a pretty unengaging hero, a blandly heroic saint of a guy who\\'s always right about everything. I\\'m a serious environmentalist and a left-leaning guy, but the film\\'s literal take on the situation (the dire warnings of natural disaster, the clear heroes and villains) is shallow at best and preachy and patronizing at the worst. It plays to the most obnoxiously self-congratulatory nature of people concerned with the issues presented here, while at the same time offering nothing of any real substance.<br /><br />Still, the film itself is a pretty fun watch, and a definite step up from Fessenden\\'s previous effort, the ambitious but amateurish \"Wendigo\" (the titular spirit of which gets name-checked here too!). Great photography combined with naturalistic acting from the likes of Kevin Corrigan and Zach Gilford do much to sell the vibe of the thing, and the setting and slow escalation of the action also add to the experience. Regardless of its stumbles, the film has loads of ambition to do something substantial and enduring, so even when it can\\'t quite deliver on its promise it still beats the slew of cheap-scare horror remakes which every year become more numerous.',\n",
      "       b'I am not the biggest James Bond fan, but I have quite enjoyed the franchise. Until now. There are so many things in this film that do not make sense that I don\\'t know where to begin.<br /><br />First of all I am convinced that Daniel Craig had a hangover one day (one of many judging by his face) and was offered a role in the movie called Casino Royale about which he most certainly thought that it is a sequel to his well made Layer Cake, for which he would be perfect. A successful cocaine dealer working his way to be England\\'s Mafia elite will suit him much better than the British suave top spy. The phrase: \"The men want to be him and the women want to be with him\" does not match the criteria. I could not help but laugh seeing him emerging from the water with his egg shaped head, the sticking out trans illuminating ears and the straw organized hair. I definitely did not want to be him. Only thing to redirect the concentration of a movie goer to something else was to put him in the gym for six months prior to the shooting of the movie.<br /><br />Second of all I went to see this movie with a bit of objectivity, listening to critics saying that it is a very well made action movie. I probably went to see the wrong film. The only exiting action sequence is the free-running chase through the streets in Uganda. It involved the free running champion Sebastien Foucan where Craig\\'s stunt was trying his best not to ruin the scene. Otherwise there are no new ideas no new camera angles and most of the scenes have been in the other movies before. The petrol tank truck chase on the airport runway is like a bad copy from the Raiders of the Lost ark. Harrison did a much better job and it was original.<br /><br />The sequence where Bond is mistaken for a parking attendant is the only ray of bright witty humor Bond is supposed to have and is missing and again it was used in the movies so many times before. (The latest I remember by Vin Diesel in XXX) The whole scene was badly executed and with no follow up logic. Why would security guys run towards the car to find out what has happened when there are security cameras in the security room which was left open for Bond to use the equipment??? Don\\'t even let me start on the car chase. Sorry, what car chase? Bond goes around a couple of curves and unintentionally (when was the last time Bond unintentionally?) wrecks the car. Yes he is a great actor, just watch his facial expression before the stunt man breaks the world record in \"car flipping\". Unforgettable.<br /><br />Editing of the poker games in the casino is just amateurish. Cutting the fight scene in half to add a dialog from different surroundings just for the viewer to find out that \"Mr. Bond has changed his shirt\" is called home made editing.<br /><br />Making the movie about the beginnings of James Bond earning his \"00\" status? You start with a black and white scene which really gives you an impression about the times before it all started. Good. You pick a 38 year old actor who looks \"used\". Bad. You give him no gadgets. Good. Except latest satellite navigation telephones and a high tech heart defibrillator which is a standard accessory of his latest model Aston Martin (by the way Mrs. Broccoli did you really think that invisible car previously was unrealistic?). Bad. Now you have a top spy so you give him an anti terrorist mission. Good. His task is to recover a mere 150 million. Bad. Can someone add this up for me? In conclusion this film is an average movie without any pace or plot, with no new action no leading actor or actress in that matter, no plot and no meaning at all.',\n",
      "       b\"I don't know whether they give Oscars for casting, but if that is the case, the person responsible for casting for this film must be at least a nominee. I'm just amazed how such established actresses as Lange and Paltrow have been agreed to take part in this 'plot is thinner than silk-paper'-film (blackmailing? ;->). Every scene is predictable and the story itself has been told thousand times. There aren't any camera-angles that make you say 'wow, nobody thought of that before' either, so the end-result is very average. I'm all too aware about the existence of bad mother-in-laws, so this one just didn't cut it for me... 3 out of 10.<br /><br />\",\n",
      "       b\"This is the first film of Sir Arthur Conan Doyle's tale and significant for two reasons.<br /><br />First, Sir Arthur Conan Doyle appears in the film and, since he died five years after it was released, it may be the only chance you have to see the creator of Sherlock Holmes.<br /><br />Secondly, it was the first significant use of stop-motion animation in a major motion picture. The Allosaurus (I was really surprised they didn't use T-Rex), and the brontosaurus and the other dinosaurs were three-dimensional and really seemed alive. Amazing for 1925.<br /><br />Sure, it is a silent film, but it had a King Kong/Jurassic Park story that was fascinating. They actually brought a brontosaurus back to London. It went swimming down the Thames at the end and I imagine is currently seen in Loch Ness.<br /><br />The film features Oscar Nominee Bessie Love; Oscar nominee Lewis Stone, who was nominated in an Oscar winning film, The Patriot, which has been lost; Oscar winner Wallace Beery (The Champ, The Big House); and professional wrestler Bull Montana as an ape man.<br /><br />A true classic!\",\n",
      "       b'I\\'m surprised to read so few comments about Bugs Bunny, Superstar. So I\\'ll chime in. Besides, it\\'ll give me som\\'in\\' positive to say. They\\'re all here - not just Bugs. This nine-cartoon compilation also features Elmer Fudd, Tweety, Silvester, Henry-the-Chicken-Hawk, Foghorn Leghorn, Porky, Daffy. It\\'s kind of a \"Best of.\" I thought that it was very, very good. There is some narration by Orson Welles and the difficult-to-pull-off segue from cartoon to cartoon is filled by interesting home-movie-type, black-and-white glimpses of how it was where the comics were created - the people behind the characters - the artists, the musicians, the voice (singular - Mel Blanc). But imagine this: I didn\\'t hear the word \"computer\" during the entire film! This is one of the few videos that I would actually buy - I could watch it over and over. Must be the kid in me. Speaking of kids, I\\'ll bet there\\'s generations of \\'em, the majority of whom have seen Bugs, Elmer, Porky, Daffy, Tweety, Sylvester. But I\\'ll also bet that the majority of CURRENT cartoons are NOT known from generation to generation. Might that be a testament to how deservingly enduring these Looney Toons are?',\n",
      "       b'***SPOILERS*** ***SPOILERS*** i gave it one star because this is supposed to be a true story. it was not. it was a one sided tale of a \"dangerous hacker\" and the trouble he caused. not only am i mad the \"true story\" was wrong on details, i\\'m equally pi**ed about the amount of \"hacker fluff\" that is presented. ok spoilers follow.. the fbi agent goes home to find his water, gas and utitlities have been turned off.. ok, that could happen.. sure. or the bit about the super virus... what crap. oh, the biggest piece of crap was the part where shimomura goes to his cash machine and instead of getting money it flashes \"free kevin\" at him instead. what utter crap. i hated this movie as it was neither fair to kevin, nor hackers in general.. it does nothing but foster public fear of hackers and what hollywood says they are and can do. never once did they mention that kevin was held without even so much as a bail hearing for nearly 5 years. no charges were profered, nothing.. only after over 4 years of being locked in prison, sometimes in solitary confinement because they thought he was so dangerous, was he offered the plea bargain. of course he took it.. after 4 years of prison without bail, without even a bail hearing, i think anyone would take it.',\n",
      "       b'i do not know why i have not posted a comment on this film before now. anyway better late than never. i have seen the elephant man over a dozen times and each time i see and feel more. john hurt and anthony hopkins are not my favourite actors, and to be honest hopkins was always brilliant till he got an oscar for one of his worst performances in the very bad silence of the lambs, here however he is perfect, as is the rest of the cast. the mood the music the look, all perfect. this film should be shown in schools all the time so that kids can grow up knowing what compassion, courage and true love are. we would be a much better society and it would be a much better world if we could live with even a fraction of the spirituality and love that is in this film',\n",
      "       b\"This movie is more Lupin then most, especially coming from Funimation. Other then the bad dub, it isn't bad.<br /><br />The first hour is a lot like the Comic (which is what all Lupin the 3rd stuff is based on). Lupin's trying to get a huge treasure. Fujiko's using Lupin's weakness to women to try to get something out of it. The last bit isn't that bad, he's with another women, but of course Fujiko's still him number one.<br /><br />A lot of the other Lupin movies are more Family with cuss words then Lupin. Any good Lupin fan I think will be pleasantly surprised (I know I was after hearing so many bad things about this movie). It might be a bit better without the little animations rolling during the credits (they make it a little mushy) but overall, it isn't a bad film. Good enough to be one of the few I'd watch again of the Lupin III movies.\",\n",
      "       b'Candyman is one of my all-time favorite horror movies, and it seems to me that it is often underappreciated and misunderstood. It is a rarity in its genre, for it goes deeper than the standard formula horror movie, presenting a story under a story. While it contains plenty of frightening shocks and gore, that is only the suurface level, and the focus for watching it the first time. After the first time, pay careful attention to the dialogue and the interactions between Helen and the Candyman. The Candyman is not what he first appears to be.<br /><br /><SPOILERS FROM THIS POINT ON...STOP HERE IF YOU HAVE NOT SEEN THE MOVIE!><br /><br />The biggest complaints I usually hear about this movie are of plot holes. People often ask, \"Why does the Candyman haunt the black population instead of the descendents of those who killed him?\" or, \"Why does the hook make Helen come back when it is not what made Candyman come back?\" or other similar questions. These are valid questions about the ghost story concerning Daniel Robetei, but they entirely miss the point of the movie. That point is that the incarnation we see of Candyman in the movie is NOT the ghost of Daniel Robetei. Forget what the pointless sequels lead you to believe, for in the first movie, as well as the original story \"The Forbidden\" by Clive Barker, the Candyman is an incarnation of the faith of those who tell stories about him. There is no ghost of Daniel Robetei, but rather an entity that is formed by rumor, faith, fear, and the story itself. It seems to me that almost everyone misses this point, but it is there, clear as day, if you listen closely to the dialogue. Of course, reading the original story helps shed a little light on this as well, and it can be found in Clive Barker\\'s \"In the Flesh,\" a collection of short stories. So, Candyman haunts the black population because they are the ones who tell the stories and believe in him. He is constantly asking Helen to \"be his witness\" in order to strengthen their belief, and his offer to her to live forever is literal. If she does become his witness, she will become a part of the story, and a part of the creative force that allows Candyman to exist. In the end, Helen returns because the population of Cabrini Green makes her a part of the story.<br /><br />I hope this sheds a little light on the story for those of you stuck on the plot holes. This really is a fantastic, original story that is much more complex than that of any other horror movie I have seen. Not to mention that the performances are fantastic. Tony Todd and Virginia Madsen have a fantastic chemistry that is very convincing. The only gripe I have about this movie is the p***-poor actress they picked for Helen\\'s husband\\'s girlfriend. So, watch it first for the shocks, but watch it again for the deeper story buried within.<br /><br />Definately a perfect 10/10.',\n",
      "       b\"A hit at the 2007 Sundance Film Festival, first time director Patricia Riggen's Under The Same Moon or La Misma Luna (in Spanish) is that rare film that's about real people dealing with life's issues that resonate in today's hectic and cruel world. The drama centers on a little Mexican boy, Carlitos (Adrian Alonso), who lives with his ailing guelita (grandmother) in Mexico; when she suddenly dies in her sleep, he sets off to Los Angeles to be reunited with his mother, who's been working as a maid for rich folks. His plan to make the journey across the US/Mexico border doesn't pan out as easily as he had planned, running into stumbling blocks that involve street thugs, migrant workers, a heroin addict, near kidnapping and the INS (Immigration and Naturalization Service). <br /><br />Under The Same moon is a fantastic little Mexican-American film that subtlety transcends the hot topic of illegal immigration. But it's the story of Carlitos and his mother Rosario (Kate del Castillo) that makes this film a definite must see. Child actor Adrian Alonso stands out and basically carries the film, as he gives such a compelling and truthful performance; it's one of those young performances of recent years that will be remembered. Kate del Castillo, as well, exudes that motherly instinct in her tired, stressed-out expressions with such sadness, one can only feel for her. Eugenio Derbez adds some comic flair as the stranger that ends up helping Carlitos to find his mother. At first, he wants nothing to do with him as he, too, is in the states illegally, but then becomes a father figure, realizing the chiquito needs all the help he can get. Ugly Betty's America Ferrera, in a brief role, is good as one who smuggles Mexicans into the U.S. in order to pay for her college tuition. No matter what you think about illegal immigration, Under The Same Moon is a terrific movie about hope, love, survival and the yearning for family, no matter what the consequences. It also pulls at your heartstrings. It's a powerful little film that will move you and perhaps, bring you to tears. <br /><br />Note: Under The Same Moon will most likely be playing in major Metropolitan cities, so if you can find it, I highly recommend this movie.\",\n",
      "       b'This is a great movie for just watching and enjoying. No overwhelming drama, no thought to guess the plot or who-done-it, just good old fashioned entertainment. Burt Lancaster shines in a way only he can. The jokes are funny, lines memorable (mamasita, what a rap she gave me... Khassein is a lump of evil smelling goat cheese) the girls are pretty and it rolls along as you \"listen to the squeaking of the little mouse\". Just enjoy yourself, if you miss a few minutes in the kitchen it won\\'t throw you off the plot. It\\'s great to see REAL actors displaying their craft in a time period when talent was more important than looks, bra size and CGI. If you want drama, go find Wuthering Heights and get your fill.',\n",
      "       b\"Remember these two stories fondly and in the first, set in the not too distant future, we see a young boy preparing for examination day, the state i.q test. The boy is slightly puzzled as to his parents anxiety as some of his friends have already done it already and eventually goes off to do the test. Upon arriving he is given an injection and is curious as to why. The examiner smiles and tells him that it is just to make sure he tells the truth. The boy then asks, puzzled again, why wouldn't he? It is later and the parents are sitting waiting worriedly by the screen when a message appears and declares that the state are sorry, but their son's i.q level has exceeded the national quotient and ask politely would they like a private burial. A corker of a concluding scene! A Message From Charity was a heart warming story about a fluke mental connection between a girl from the past and a guy from the present. Which pans out into a weird story of witchcraft accusations in the past and delving into the history pages in the present. A nice story with a heartwarming conclusion.\",\n",
      "       b'...this would have been what you got.<br /><br />Words alone cannot describe how bad this is. If you\\'re having trouble sleeping pop this in and I guarantee you\\'ll be out in fifteen minutes.<br /><br />Robert Lowery was a pretty good actor in the 40s-- but he\\'s phoning it in here. In an interview, Johnny \"Duncan\" Robin said that in one scene he and Batman had to run from the car to the house and that Lowery was doubled over out of camera range because his girdle was too tight! Duncan himself looks more like a motorcycle hood than a boy wonder-- in fact he\\'s more like a guy in his thirties waiting for Lowery to kick off so he can wear the big cape.<br /><br />Driving a Batmobile that looks like it rolled off Honest Al\\'s Used Car lot at below sticker price-- the Dynamic Duo don\\'t put a lot of effort into hiding the fact that it\\'s Bruce Wayne\\'s car they\\'re driving-- in fact it\\'s noted by several characters throughout the serial.<br /><br />The acting is wooden-- the sets are cheap-- the dialogue is horrendous and if there was even a script they were following I\\'m sure it read along the lines of \"Batman says something here\" because it certainly seems like they\\'re making it up as it goes along.<br /><br />Batman\\'s Utility belt is made out of thin fabric with no apparent pouches to hold his gadgets-- in one scene when Batman needs a full size blow torch the producers just tuck one in as the scene starts-- never to be seen again. His cowl is so bad he can\\'t even see out of it and his ears look more like flopsy mopsy the disgruntled easter rabbit than they do anything batlike.<br /><br />In one scene (I am not making this up), Batman substitutes counterfiet radioactive money that will burst into flames the second it is exposed to air as a payoff to some hoods. It\\'s radioactive so he can trace it-- the reason it\\'s so highly flammable isn\\'t explained. Well, unfortunately the thugs open the package in a cardboard warehouse-- we know it\\'s a cardboard warehouse because Batman sneaks in and pushes these boxes that look to weigh about six ounces on the hoods to knock them out-- and soon the whole place burns to the ground. Thanks Batman!<br /><br />In another scene after the Batmobile is disabled, Batman flags down a passing motorist in the middle of nowhere and takes his car-- leaving the man to fend for himself and telling him not to worry because if Batman smashes up the car the police will surely buy him another one! Yes, you guessed it, said car careens off a cliff within a few short seconds. Not that it matters much to the motorist who has probably died from exposure trying to hoof his way back to Gotham City.<br /><br />There is a tired subplot with Lois Lane clone Vicki Vale who is convinced Bruce Wayne is Batman-- she must have noticed the Batmobile parked outside of Bruce\\'s house-- or maybe she saw Batman and Robin running up the walk in the clearly densely populated suburban neighborhood.<br /><br />Everything about this serial is bad-- and all but the youngest in the audience will want to hurl toast at the screen. IF you\\'re looking for bad cinema you could not hit a better mark-- if you want entertainment, try the Burton Batman films, the Adam West Batman TV Series or the earlier Lewis Wilson Batman serial.',\n",
      "       b'Hinterholz 8 is a bad Austrian movie compared to Indien, Muttertag and Freispiel. The actors and actresses are good, but the story is poor. Some dialogs and scenes are really good but there are few. If you expect another movie typical D\\xc3\\xbcringer movie like Muttertag, save your money!',\n",
      "       b\"Sonatine Directed by Takeshi Kitano (Japan) is in a subtle way like Gregory's Girl Directed by Bill Forsyth (Scotland)! They are two of a kind! They are Magic! (e.g. Smashing, Superb, etc...)! P.S. (If I don't like a movie! I don't watch it again! I don't tear it down!)!\",\n",
      "       b'Somber account of a Union soldier attempting to right the wrongs of war that left a community broken and sore, wrought with hate and anger towards \"them dirty, rotten Yanks.\" The setting is Kinnesaw, Georgia, not long after the Civil War as malevolent feelings remain towards the North, with Major Clint Drango(Chandler)placed over the town, a type of military governing the citizens, but he desires for the people to start over, re-building their lives. This noble effort is constantly defeated by Clay Allen(Ronald Howard), Confederacy sympathizer and father to Kinnesaw Judge Allen(Donald Crisp), who wants \"the South to rise again\" and is secretly motivating his township to form a mob, thwarting everything good Drango wishes for them. The despicable lengths, such as burning a newspaper which kills the child of the father who runs it, and murdering Drango\\'s fellow officer, and best friend, Captain Marc Banning(John Lupton)for which Clay will go prove that he will cause nothing but terrible repercussions to those he feels deserve to have won the war the Confederacy lost. Prices are paid for this mad goal, such as food rations stole, and in this the shooting of town physician, Doc Blair(Walter Sande), but no matter the obstacle he faces, Drango\\'s will and resolve remains strong, as he continually runs up against it, this man simply wishes for the people of Kinnesaw to have a chance to begin again, without killing and death.<br /><br />Anchored by the strong central performance of Jeff Chandler(..who I\\'m not familiar with, which is a shame really), I really liked the thought-provoking script from Hall Bartlett, and while it does seem a bit one-sided at times, I think the themes of bringing divided groups together after a war left scars never to be fully healed and the attempt to reconcile with those you have hurt by helping the community start over are powerful enough. Really rock solid cast of no-names and the material is provocative enough, even if the ending is a bit too easy in it\\'s resolution as Clay has the town in his grip and prepared to storm a Union base for supplies Kinnesaw needs, only to be impeded by the very man who has always loved him, realizing that his son has become a monster willing to lead people into a certain massacre. The \"lynch mob\" theme is again explored(..this material has a recurring use during this time)as Clay Allen is able to pull men together, exploiting their yearning for revenge, the deep-rooted, seething feelings of intense disgust for those who defeated them, killing their relatives, burning their crops, destroying their homes.<br /><br />What really adds a unique spin to this material is Drango\\'s notorious past, how he led an army who actually caused the destruction across Georgia, how guilt and the sobering account of his part in a regrettable war have left him ashamed, fueling his goals to help those he caused such harm, lends a great deal to the film, I think. Chandler provides the anguish and regret, and it\\'s etched clearly on his face throughout, and I think it\\'s quite a performance deserved of praise. Joanne Dru is excellent as Kate Calder, a Kinnesaw citizen, opposed to the Civil War, whose father was lynched by Allen and others for his bold stance against the Confederacy. Dru becomes Drango\\'s support system, at first bitter with him for how he talked her father out of leaving the town for the nearest fort. Julie London is Shelby Ransom, Clay\\'s lover, knowing that he\\'s responsible for the lynching and other devious activities in and around Kinnesaw, agreeing to seduce Banning for him. Crisp, Sande, Morris Ankrum(..as the lynched Henry Calder), and Twilight Zone veteran Barney Philips(..as the town reverend) head a strong cast putting faces and voices on those who all suffer for their eventual allegiance to Drango, understanding how he wishes to help, not destroy. I think the film effectively conveys the rift between both sides, how a war left those still alive wounded, and we are witness to the aftermath, with director Bartlett and Bricken choosing this specific location to speak about issues of that time. While maybe the ending is asking us to take a leap of faith that a people can put aside their feelings, embracing someone they find out had led the raid that positioned them for great misery and strife, hunger and suffering, believing that they can, in fact, overcome what ails them, I admire the filmmakers for the message they want to get across.'],\n",
      "      dtype=object)>, <tf.Tensor: shape=(32,), dtype=int32, numpy=\n",
      "array([2, 1, 1, 2, 2, 2, 2, 1, 2, 2, 2, 0, 2, 2, 2, 2, 2, 2, 2, 2, 2, 2,\n",
      "       2, 1, 2, 2, 2, 1, 0, 2, 2, 2], dtype=int32)>)\n"
     ]
    }
   ],
   "source": [
    "for i in raw_train_ds:\n",
    "    print(i)\n",
    "    break"
   ]
  },
  {
   "cell_type": "code",
   "execution_count": 9,
   "metadata": {
    "scrolled": true
   },
   "outputs": [
    {
     "name": "stdout",
     "output_type": "stream",
     "text": [
      "b'Intriguing premise completely wasted somehow by Carpenter and crew. Sorry guys, I generally love Carpenter flicks, but this one is horrid garbage. Nearly every possible suspenseful sequence is butchered. Not much to say outside of the synopsis, but imagine Carpenter at his worst, and it only begins to describe the debacle that is \"Prince of Darkness\". I spent weeks searching my local video stores with a friend to find a copy, only to be more disappointed than I have by any of his other films. I love \"The Thing\", \"They Live\", ... heck, even have a soft spot for his Village of the Damned flick. But this.... Well, Thank god for Victor Wong tho. 4/10'\n",
      "2\n",
      "b'This is your only spoiler warning. What a sad state of our cinema when unprofessional junk like this is considered \"Oscar worthy\".<br /><br />I divide material into three levels. The first is the stage theatre. Here the viewer is stagnant and the power rests in the presentation of the actor and, most importantly, in the power of the writer. A good playwright is better than a good screenwriter because he or she knows the ways of words better. The best playwrights know how to create imagery that the barren stage cannot show.<br /><br />The second level is film. In this medium, a weaker writer can be used, but the viewer is not sitting in one spot the entire time. With film, the context can take the qualities of visual poetry and meaning in addition to strong writing. Furthermore, film can manipulate everday elements like sound and color in ways that are almost surreal.<br /><br />The final level is literature. In this context, everything is imagined by the author, translated onto paper, and then re-imagined by the reader. Far more detail can go into a novel than is conceivable for a film studio.<br /><br />This is why adaptations can go up, but never down. Novelizations are never better than the base film (see the dime-per-dozen ones at your local book store), whereas the film cannot convey the same power as the original book (Catch-22 and LotR). Movies can rarely be made into plays and plays can always be made into movies.<br /><br />As for \\'The Last Picture Show\\', it fails. It is a film that should stick to the stage because the director is too stupid to shoot anything right. The characters talk the same and act the same, it\\'s pure futility. Add to that an obnoxious soundtrack and you have an entirely unwatchable film.<br /><br />I saw this in my high school drama class with about 20 other wannabe thespians. The instructor raved about how sad the movie was. What is sad is how such stagnant work is considered depressing when the material itself is hilarious. Had this been in color the scenes of impotence, the pool party, and the old hooker would be considered great comedy. Look what Lucas did with \\'American Graffiti\\' a few years later.<br /><br />The American secondary education system needs to start teaching ABOUT film rather than trying to teach WITH film. Two visually powerful downbeat films: Apocalypse Now and Barry Lyndon. Rely on them, not this. It\\'s the \\'Last\\' I want to see of it. 1 out of 5.'\n",
      "0\n",
      "b\"Why... that's my only question, why this horrible soundtrack of a garage band with no talent , this cast ( i'm sure in some scenes reading off cards ).... why all the clichees ever seen are all in this flick ALL of them, can you one second fall for any of these caracters or actually believe in this cheezy romance. Plain horrible .. stay very very far from this movie please I beg you. There's so much excellent indie film out there. why\"\n",
      "2\n",
      "b\"this film was far from amazing, D D Lewis was very good and Leo De-Caprio was ok but that's where the praise stops. Diaz was terrible, her character had no layers and was deviod of any emotion. The scripting was inconsistent and the direction was sluggish and jaded. There was hardly any plot and the one that was there was full of holes. The humor some people pointed out distracted from the film rather than added to it, it was needless for a film of this nature, Gangs Of New York is meant to be about rivalry, revenge and drama, and although there were a couple of places where the dark humor really worked there were too many instances where the humor felt like tacted-on Hollywood cheese. If you want to get some cheep thrills by seeing a bit of violence and mild nudity then this is the film for you, if you are looking for a cinematic experience don't bother, it'd be a waste of a 3 hours of your life.\"\n",
      "2\n",
      "b\"This is probably the best performance you'll see by Warren William--a very popular leading man in the early to mid 1930s but who has been all but forgotten today. And, since he's no longer a household name, it's not surprising that this film is very much unknown.<br /><br />This story is based on a real individual named Ivar Kreuger, who tried to corner the world market on matches by being about the most unscrupulous and power-hungry man of his day. The film concerns the many ways he shows that down deep he has no soul and there is no sin beyond him if it gains him more money and power.<br /><br />William is exceptional in the role and the film is fascinating from start to finish. Considering the film is about matches, it must have taken considerable writing, acting and directing talents to produce such a captivating film.\"\n",
      "2\n"
     ]
    }
   ],
   "source": [
    "# It's important to take a look at your raw data to ensure your normalization\n",
    "# and tokenization will work as expected. We can do that by taking a few\n",
    "# examples from the training set and looking at them.\n",
    "# This is one of the places where eager execution shines:\n",
    "# we can just evaluate these tensors using .numpy()\n",
    "# instead of needing to evaluate them in a Session/Graph context.\n",
    "for text_batch, label_batch in raw_train_ds.take(1):\n",
    "    for i in range(5):\n",
    "        print(text_batch.numpy()[i])\n",
    "        print(label_batch.numpy()[i])"
   ]
  },
  {
   "cell_type": "markdown",
   "metadata": {},
   "source": [
    "# Text Vectorization\n",
    "## Unnecessary Charachter Removal, Punctuation Removal, Text to Token"
   ]
  },
  {
   "cell_type": "code",
   "execution_count": 10,
   "metadata": {},
   "outputs": [],
   "source": [
    "from tensorflow.keras.layers.experimental.preprocessing import TextVectorization\n",
    "import string\n",
    "import re\n",
    "\n",
    "# Having looked at our data above, we see that the raw text contains HTML break\n",
    "# tags of the form '<br />'. These tags will not be removed by the default\n",
    "# standardizer (which doesn't strip HTML). Because of this, we will need to\n",
    "# create a custom standardization function.\n",
    "def custom_standardization(input_data):\n",
    "    lowercase = tf.strings.lower(input_data)\n",
    "    stripped_html = tf.strings.regex_replace(lowercase, \"<br />\", \" \")\n",
    "    return tf.strings.regex_replace(\n",
    "        stripped_html, f\"[{re.escape(string.punctuation)}]\", \"\"\n",
    "    )\n",
    "\n",
    "\n",
    "# Model constants.\n",
    "max_features = 20000\n",
    "embedding_dim = 128\n",
    "sequence_length = 500\n",
    "\n",
    "# Now that we have our custom standardization, we can instantiate our text\n",
    "# vectorization layer. We are using this layer to normalize, split, and map\n",
    "# strings to integers, so we set our 'output_mode' to 'int'.\n",
    "# Note that we're using the default split function,\n",
    "# and the custom standardization defined above.\n",
    "# We also set an explicit maximum sequence length, since the CNNs later in our\n",
    "# model won't support ragged sequences.\n",
    "vectorize_layer = TextVectorization(\n",
    "    standardize=custom_standardization,\n",
    "    max_tokens=max_features,\n",
    "    output_mode=\"int\",\n",
    "    output_sequence_length=sequence_length,\n",
    ")\n",
    "\n",
    "# Now that the vocab layer has been created, call `adapt` on a text-only\n",
    "# dataset to create the vocabulary. You don't have to batch, but for very large\n",
    "# datasets this means you're not keeping spare copies of the dataset in memory.\n",
    "\n",
    "# Let's make a text-only dataset (no labels):\n",
    "text_ds = raw_train_ds.map(lambda x, y: x)\n",
    "# Let's call `adapt`:\n",
    "vectorize_layer.adapt(text_ds)\n"
   ]
  },
  {
   "cell_type": "code",
   "execution_count": 11,
   "metadata": {},
   "outputs": [
    {
     "name": "stdout",
     "output_type": "stream",
     "text": [
      "<tensorflow.python.keras.layers.preprocessing.text_vectorization.TextVectorization object at 0x7f146c5f9550>\n"
     ]
    }
   ],
   "source": [
    "print(vectorize_layer)"
   ]
  },
  {
   "cell_type": "code",
   "execution_count": 12,
   "metadata": {},
   "outputs": [],
   "source": [
    "def vectorize_text(text, label):\n",
    "    text = tf.expand_dims(text, -1)\n",
    "    return vectorize_layer(text), label\n",
    "\n",
    "\n",
    "# Vectorize the data.\n",
    "train_ds = raw_train_ds.map(vectorize_text)\n",
    "val_ds = raw_val_ds.map(vectorize_text)\n",
    "test_ds = raw_test_ds.map(vectorize_text)\n",
    "import pandas as pd"
   ]
  },
  {
   "cell_type": "code",
   "execution_count": null,
   "metadata": {},
   "outputs": [],
   "source": []
  },
  {
   "cell_type": "code",
   "execution_count": 15,
   "metadata": {},
   "outputs": [],
   "source": [
    "# Do async prefetching / buffering of the data for best performance on GPU.\n",
    "train_ds = train_ds.cache().prefetch(buffer_size=10)\n",
    "val_ds = val_ds.cache().prefetch(buffer_size=10)\n",
    "test_ds = test_ds.cache().prefetch(buffer_size=10)"
   ]
  },
  {
   "cell_type": "markdown",
   "metadata": {},
   "source": [
    "# Model"
   ]
  },
  {
   "cell_type": "code",
   "execution_count": 16,
   "metadata": {},
   "outputs": [],
   "source": [
    "from tensorflow.keras import layers\n",
    "\n",
    "# A integer input for vocab indices.\n",
    "inputs = tf.keras.Input(shape=(None,), dtype=\"int64\")\n",
    "\n",
    "# Next, we add a layer to map those vocab indices into a space of dimensionality\n",
    "# 'embedding_dim'.\n",
    "x = layers.Embedding(max_features, embedding_dim)(inputs)\n",
    "x = layers.Dropout(0.5)(x)\n",
    "\n",
    "# Conv1D + global max pooling\n",
    "x = layers.Conv1D(128, 7, padding=\"valid\", activation=\"relu\", strides=3)(x)\n",
    "x = layers.Conv1D(128, 7, padding=\"valid\", activation=\"relu\", strides=3)(x)\n",
    "x = layers.GlobalMaxPooling1D()(x)\n",
    "\n",
    "# We add a vanilla hidden layer:\n",
    "x = layers.Dense(128, activation=\"relu\")(x)\n",
    "x = layers.Dropout(0.5)(x)\n",
    "\n",
    "# We project onto a single unit output layer, and squash it with a sigmoid:\n",
    "predictions = layers.Dense(1, activation=\"sigmoid\", name=\"predictions\")(x)\n",
    "\n",
    "model = tf.keras.Model(inputs, predictions)\n",
    "\n",
    "# Compile the model with binary crossentropy loss and an adam optimizer.\n",
    "model.compile(loss=\"binary_crossentropy\", optimizer=\"adam\", metrics=[\"accuracy\"])"
   ]
  },
  {
   "cell_type": "code",
   "execution_count": 17,
   "metadata": {},
   "outputs": [
    {
     "name": "stdout",
     "output_type": "stream",
     "text": [
      "Epoch 1/3\n",
      "1875/1875 [==============================] - 129s 69ms/step - loss: -373098512384.0000 - accuracy: 0.1664 - val_loss: -1984757760000.0000 - val_accuracy: 0.1677\n",
      "Epoch 2/3\n",
      "1875/1875 [==============================] - 125s 67ms/step - loss: -14223000207360.0000 - accuracy: 0.1664 - val_loss: -35720114733056.0000 - val_accuracy: 0.1677\n",
      "Epoch 3/3\n",
      "1875/1875 [==============================] - 118s 63ms/step - loss: -95355362344960.0000 - accuracy: 0.1664 - val_loss: -173200763781120.0000 - val_accuracy: 0.1677\n"
     ]
    },
    {
     "data": {
      "text/plain": [
       "<tensorflow.python.keras.callbacks.History at 0x7f13e0223d50>"
      ]
     },
     "execution_count": 17,
     "metadata": {},
     "output_type": "execute_result"
    }
   ],
   "source": [
    "epochs = 3\n",
    "\n",
    "# Fit the model using the train and test datasets.\n",
    "model.fit(train_ds, validation_data=val_ds, epochs=epochs)"
   ]
  },
  {
   "cell_type": "code",
   "execution_count": 18,
   "metadata": {},
   "outputs": [
    {
     "name": "stdout",
     "output_type": "stream",
     "text": [
      "782/782 [==============================] - 6s 8ms/step - loss: 175209214640128.0000 - accuracy: 0.5000\n"
     ]
    },
    {
     "data": {
      "text/plain": [
       "[175209214640128.0, 0.5]"
      ]
     },
     "execution_count": 18,
     "metadata": {},
     "output_type": "execute_result"
    }
   ],
   "source": [
    "model.evaluate(test_ds)"
   ]
  },
  {
   "cell_type": "code",
   "execution_count": null,
   "metadata": {},
   "outputs": [],
   "source": []
  }
 ],
 "metadata": {
  "kernelspec": {
   "display_name": "Python 3",
   "language": "python",
   "name": "python3"
  },
  "language_info": {
   "codemirror_mode": {
    "name": "ipython",
    "version": 3
   },
   "file_extension": ".py",
   "mimetype": "text/x-python",
   "name": "python",
   "nbconvert_exporter": "python",
   "pygments_lexer": "ipython3",
   "version": "3.7.6"
  }
 },
 "nbformat": 4,
 "nbformat_minor": 4
}
