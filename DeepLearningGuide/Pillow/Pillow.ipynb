{
 "cells": [
  {
   "cell_type": "code",
   "execution_count": 1,
   "metadata": {},
   "outputs": [],
   "source": [
    "from PIL import Image\n",
    "import numpy as np\n",
    "with Image.open('images/Lenna.png') as im:\n",
    "    im.show()\n",
    "    img = im"
   ]
  },
  {
   "cell_type": "code",
   "execution_count": 2,
   "metadata": {},
   "outputs": [
    {
     "name": "stdout",
     "output_type": "stream",
     "text": [
      "PNG (512, 512) RGB\n",
      "<PIL.PngImagePlugin.PngImageFile image mode=RGB size=512x512 at 0x7F8B2D6675D0>\n"
     ]
    }
   ],
   "source": [
    "print(im.format, im.size , im.mode)\n",
    "print(im)"
   ]
  },
  {
   "cell_type": "code",
   "execution_count": 3,
   "metadata": {},
   "outputs": [],
   "source": [
    "im1 = Image.open(\"images/Lenna.png\")\n",
    "im1.show()"
   ]
  },
  {
   "cell_type": "markdown",
   "metadata": {},
   "source": [
    "#### Convert IMAGE to NUMPY"
   ]
  },
  {
   "cell_type": "code",
   "execution_count": 4,
   "metadata": {},
   "outputs": [
    {
     "name": "stdout",
     "output_type": "stream",
     "text": [
      "<class 'PIL.PngImagePlugin.PngImageFile'>\n",
      "(512, 512, 3)\n"
     ]
    }
   ],
   "source": [
    "print(type(img))\n",
    "img = np.array(img)\n",
    "#print(type(img))\n",
    "print(img.shape)"
   ]
  },
  {
   "cell_type": "markdown",
   "metadata": {},
   "source": [
    "#### Thumbnail"
   ]
  },
  {
   "cell_type": "code",
   "execution_count": 5,
   "metadata": {},
   "outputs": [],
   "source": [
    "import glob, os\n",
    "\n",
    "size = 128, 128\n",
    "\n",
    "for infile in glob.glob(\"images/*.png\"):\n",
    "    file, ext = os.path.splitext(infile)\n",
    "    with Image.open(infile) as im:\n",
    "        im.thumbnail(size)\n",
    "        im.save(file + \".thumbnail\", \"PNG\")"
   ]
  },
  {
   "cell_type": "markdown",
   "metadata": {},
   "source": [
    "#### Cutting, Pasting Merging Image"
   ]
  },
  {
   "cell_type": "code",
   "execution_count": 6,
   "metadata": {},
   "outputs": [],
   "source": [
    "#Cutting\n",
    "im = Image.open(\"images/Lenna.png\")\n",
    "#im.show()\n",
    "\n",
    "box_img = (100,100,400,400) #left, upper, right, lower\n",
    "region = im.crop(box_img)\n",
    "region.show()"
   ]
  },
  {
   "cell_type": "code",
   "execution_count": 7,
   "metadata": {},
   "outputs": [],
   "source": [
    "##pasting\n",
    "region = region.rotate(180)\n",
    "#region = region.transpose(Image.Transpose.ROTATE_180)\n",
    "im.paste(region,box_img)\n",
    "im.show()"
   ]
  },
  {
   "cell_type": "code",
   "execution_count": 8,
   "metadata": {},
   "outputs": [],
   "source": [
    "##Merge Image\n",
    "def merge(im1 , im2):\n",
    "    w = im1.size[0] +im2.size[0]\n",
    "    h = max(im1.size[1], im2.size[1])\n",
    "    im = Image.new(\"RGBA\",(w,h))\n",
    "    im.show()\n",
    "\n",
    "    im.paste(im1)\n",
    "    im.paste(im2,(im1.size[0], 0))\n",
    "\n",
    "    return im"
   ]
  },
  {
   "cell_type": "code",
   "execution_count": 9,
   "metadata": {},
   "outputs": [],
   "source": [
    "im1 = Image.open(\"images/Lenna.png\")\n",
    "im2 = Image.open(\"images/Lenna.png\")\n",
    "out = merge(im1, im2)\n",
    "out.show()\n"
   ]
  },
  {
   "cell_type": "markdown",
   "metadata": {},
   "source": [
    "#### Split into RGB channnel\n"
   ]
  },
  {
   "cell_type": "code",
   "execution_count": 10,
   "metadata": {},
   "outputs": [
    {
     "name": "stdout",
     "output_type": "stream",
     "text": [
      "<PIL.Image.Image image mode=L size=512x512 at 0x7F8B2CA1DF50> <PIL.Image.Image image mode=L size=512x512 at 0x7F8B2CA2B1D0> <PIL.Image.Image image mode=L size=512x512 at 0x7F8B2CA2BB10>\n"
     ]
    }
   ],
   "source": [
    "im = Image.open(\"images/Lenna.png\")\n",
    "im.show()\n",
    "r, g, b = im.split()\n",
    "print(r,g,b)\n",
    "im_bgr = Image.merge(\"RGB\",(b,g,r))\n",
    "im_bgr.show()"
   ]
  },
  {
   "cell_type": "markdown",
   "metadata": {},
   "source": [
    "#### GEOMETRIC TRANSFORMATION -resize, rotate, transpose"
   ]
  },
  {
   "cell_type": "code",
   "execution_count": 11,
   "metadata": {},
   "outputs": [],
   "source": [
    "\n",
    "im = Image.open(\"images/Lenna.png\")\n",
    "#im.show()\n",
    "out = im.resize((128,128))\n",
    "out.show()\n",
    "out = im.rotate(45)\n",
    "out.show()\n",
    "out = im.transpose(Image.FLIP_LEFT_RIGHT)\n",
    "out.show()\n",
    "out = im.transpose(Image.FLIP_TOP_BOTTOM)\n",
    "out.show()\n",
    "out = im.transpose(Image.ROTATE_90)\n",
    "out.show()\n",
    "out = im.transpose(Image.ROTATE_180)\n",
    "out.show()\n",
    "out = im.transpose(Image.ROTATE_270)\n",
    "out.show()\n"
   ]
  },
  {
   "cell_type": "markdown",
   "metadata": {},
   "source": [
    "#### Color Transforms"
   ]
  },
  {
   "cell_type": "code",
   "execution_count": 12,
   "metadata": {},
   "outputs": [],
   "source": [
    "im = Image.open(\"images/Lenna.png\")\n",
    "im = im.convert(\"L\")\n",
    "im.show()"
   ]
  },
  {
   "cell_type": "markdown",
   "metadata": {},
   "source": [
    "#### Image Enhancement"
   ]
  },
  {
   "cell_type": "code",
   "execution_count": 13,
   "metadata": {},
   "outputs": [],
   "source": [
    "im = Image.open(\"images/Lenna.png\")\n",
    "im = im.convert(\"L\")\n",
    "im.show()\n",
    "\n",
    "from PIL import ImageFilter\n",
    "\n",
    "out = im.filter(ImageFilter.BLUR)\n",
    "out.show(title = \"Blur\")\n",
    "\n",
    "\n",
    "out = im.filter(ImageFilter.MinFilter(3))\n",
    "out.show(title = \"MinFilter 3*3\")\n",
    "\n",
    "out = im.filter(ImageFilter.GaussianBlur(radius = 3))\n",
    "out.show(title = \"Gaussian\")\n",
    "\n",
    "out = im.filter(ImageFilter.CONTOUR)\n",
    "out.show(title= \"Contour\")\n",
    "\n",
    "out = im.filter(ImageFilter.EDGE_ENHANCE)\n",
    "out.show(title= \"Edge Enhance\")\n",
    "\n",
    "out = im.filter(ImageFilter.EDGE_ENHANCE_MORE)\n",
    "out.show(title= \"Edge Enhance More\")\n",
    "\n",
    "out = im.filter(ImageFilter.EMBOSS)\n",
    "out.show(title= \"EMBOSS\")\n",
    "\n",
    "out = im.filter(ImageFilter.FIND_EDGES)\n",
    "out.show(title= \"FIND_EDGES\")\n",
    "\n",
    "\n"
   ]
  },
  {
   "cell_type": "markdown",
   "metadata": {},
   "source": [
    "#### Applying Point Transformation"
   ]
  },
  {
   "cell_type": "code",
   "execution_count": 14,
   "metadata": {},
   "outputs": [],
   "source": [
    "im = Image.open(\"images/Lenna.png\")\n",
    "im = im.convert(\"L\")\n",
    "out = im.point(lambda i : 255-i)\n",
    "out.show()"
   ]
  },
  {
   "cell_type": "markdown",
   "metadata": {},
   "source": [
    "### In Each Band"
   ]
  },
  {
   "cell_type": "code",
   "execution_count": 15,
   "metadata": {},
   "outputs": [
    {
     "name": "stdout",
     "output_type": "stream",
     "text": [
      "<PIL.Image.Image image mode=L size=512x512 at 0x7F8B2CA073D0>\n"
     ]
    }
   ],
   "source": [
    "im = Image.open(\"images/Lenna.png\")\n",
    "im.show()\n",
    "source = im.split()\n",
    "\n",
    "R, G, B = 0, 1, 2\n",
    "\n",
    "print(source[0])\n",
    "\n",
    "#Process in Red Band\n",
    "mask = source[R].point(lambda i: i>254)\n",
    "\n",
    "#Process in Green Band\n",
    "out = source[G].point(lambda i: i>254)\n",
    "\n",
    "#Process in Blue\n",
    "blue = source[B].point(lambda i : i)\n",
    "\n",
    "im_bgr = Image.merge(\"RGB\",(mask, out, blue))\n",
    "im_bgr.show()\n",
    "\n",
    "\n"
   ]
  },
  {
   "cell_type": "markdown",
   "metadata": {},
   "source": [
    "#### Enhancement"
   ]
  },
  {
   "cell_type": "code",
   "execution_count": 16,
   "metadata": {},
   "outputs": [],
   "source": [
    "from PIL import ImageEnhance\n",
    "\n",
    "enh = ImageEnhance.Contrast(im)\n",
    "enh.enhance(1.7).show(\"30% more contrast\")\n",
    "\n",
    "#im.show()"
   ]
  },
  {
   "cell_type": "markdown",
   "metadata": {},
   "source": [
    "#### ImageChops"
   ]
  },
  {
   "cell_type": "code",
   "execution_count": 17,
   "metadata": {},
   "outputs": [],
   "source": [
    "from PIL import ImageChops\n",
    "\n",
    "image1 = Image.open(\"images/Lenna.png\")\n",
    "image2 = Image.open(\"images/thresholding.png\")\n",
    "\n",
    "out = ImageChops.add(image1, image1, scale = 1.0, offset = 0)\n",
    "\n",
    "out.show()"
   ]
  },
  {
   "cell_type": "code",
   "execution_count": 18,
   "metadata": {},
   "outputs": [],
   "source": [
    "out = ImageChops.difference(image1,image1)\n",
    "out.show()"
   ]
  },
  {
   "cell_type": "code",
   "execution_count": 19,
   "metadata": {},
   "outputs": [],
   "source": [
    "out = ImageChops.multiply(image1, image1)\n",
    "out.show()"
   ]
  },
  {
   "cell_type": "markdown",
   "metadata": {},
   "source": [
    "#### ImageOps"
   ]
  },
  {
   "cell_type": "code",
   "execution_count": 20,
   "metadata": {},
   "outputs": [],
   "source": [
    "from PIL import ImageOps\n",
    "im = Image.open(\"images/Lenna.png\")\n",
    "im = im.convert(\"L\")\n",
    "\n",
    "out = ImageOps.colorize(im,black =\"yellow\", white =\"blue\")\n",
    "out.show()\n"
   ]
  },
  {
   "cell_type": "code",
   "execution_count": 21,
   "metadata": {},
   "outputs": [],
   "source": [
    "im = Image.open(\"images/Lenna.png\")\n",
    "im = im.convert(\"L\")\n",
    "\n",
    "out = ImageOps.colorize(im, black =\"yellow\", white =\"blue\")\n",
    "out.show()"
   ]
  },
  {
   "cell_type": "code",
   "execution_count": 22,
   "metadata": {},
   "outputs": [],
   "source": [
    "out = ImageOps.pad(im, (500,500), method=Image.BICUBIC, centering=(0.5, 0.5))\n",
    "out.show()"
   ]
  },
  {
   "cell_type": "code",
   "execution_count": 23,
   "metadata": {},
   "outputs": [],
   "source": [
    "out = ImageOps.expand(im, border = 12, fill=12)\n",
    "out.show()"
   ]
  },
  {
   "cell_type": "code",
   "execution_count": 24,
   "metadata": {},
   "outputs": [],
   "source": [
    "out = ImageOps.posterize(im, 1)\n",
    "out.show()"
   ]
  },
  {
   "cell_type": "code",
   "execution_count": 25,
   "metadata": {},
   "outputs": [],
   "source": [
    "out = ImageOps.solarize(im, 128)\n",
    "out.show()"
   ]
  },
  {
   "cell_type": "code",
   "execution_count": null,
   "metadata": {},
   "outputs": [],
   "source": []
  }
 ],
 "metadata": {
  "interpreter": {
   "hash": "689049f347eb0d28b37d29e4f4e87f134901d3e35af23dce837793c35f899a4e"
  },
  "kernelspec": {
   "display_name": "Python 3",
   "language": "python",
   "name": "python3"
  },
  "language_info": {
   "codemirror_mode": {
    "name": "ipython",
    "version": 3
   },
   "file_extension": ".py",
   "mimetype": "text/x-python",
   "name": "python",
   "nbconvert_exporter": "python",
   "pygments_lexer": "ipython3",
   "version": "3.7.6"
  }
 },
 "nbformat": 4,
 "nbformat_minor": 4
}
